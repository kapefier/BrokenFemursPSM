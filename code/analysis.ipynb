{
 "cells": [
  {
   "cell_type": "markdown",
   "metadata": {},
   "source": [
    "# Analysis R Script\n",
    "\n",
    "Questo notebook esegue lo script `analysis.R` contenuto nel repository [BrokenFemursPSM](https://github.com/xxxxx/BrokenFemursPSM)."
   ]
  },
  {
   "cell_type": "code",
   "execution_count": null,
   "metadata": {},
   "outputs": [],
   "source": [
    "# Clona il repository (se non già presente)\n",
    "!git clone https://github.com/xxxxx/BrokenFemursPSM.git\n",
    "%cd BrokenFemursPSM/code"
   ]
  },
  {
   "cell_type": "code",
   "execution_count": null,
   "metadata": {},
   "outputs": [],
   "source": [
    "# Installa R e abilita il supporto in Colab\n",
    "!apt-get install -y r-base\n",
    "%load_ext rpy2.ipython"
   ]
  },
  {
   "cell_type": "code",
   "execution_count": null,
   "metadata": {},
   "outputs": [],
   "source": [
    "%%R\n",
    "# Esegui lo script R\n",
    "source('analysis.R')"
   ]
  }
 ],
 "metadata": {
  "colab": {
   "name": "analysis.ipynb"
  },
  "kernelspec": {
   "display_name": "Python 3",
   "language": "python",
   "name": "python3"
  },
  "language_info": {
   "name": "python"
  }
 },
 "nbformat": 4,
 "nbformat_minor": 0
}
